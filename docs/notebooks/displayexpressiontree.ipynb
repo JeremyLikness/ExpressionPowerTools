{
 "cells": [
  {
   "cell_type": "code",
   "execution_count": 1,
   "metadata": {},
   "source": [
    "using System.Linq.Expressions;\r\n",
    "\r\n",
    "var expr = Expression.GreaterThan(\r\n",
    "    Expression.Constant(40),\r\n",
    "    Expression.Constant(2));\r\n",
    "\r\n",
    "display(expr.ToString());"
   ],
   "outputs": [
    {
     "output_type": "execute_result",
     "data": {
      "text/plain": "(40 > 2)"
     },
     "execution_count": 1,
     "metadata": {}
    }
   ]
  },
  {
   "cell_type": "code",
   "execution_count": 1,
   "metadata": {},
   "source": [
    "#r \"nuget:ExpressionPowerTools.Core,0.9.4-alpha\""
   ],
   "outputs": [
    {
     "output_type": "execute_result",
     "data": {
      "text/plain": "Installed package ExpressionPowerTools.Core version 0.9.4-alpha"
     },
     "execution_count": 1,
     "metadata": {}
    }
   ]
  },
  {
   "cell_type": "code",
   "execution_count": 1,
   "metadata": {},
   "source": [
    "using ExpressionPowerTools.Core.Extensions;\r\n",
    "\r\n",
    "var tree = expr.AsEnumerable();\r\n",
    "var treeDisplay = tree.ToString();\r\n",
    "\r\n",
    "display(treeDisplay);"
   ],
   "outputs": [
    {
     "output_type": "execute_result",
     "data": {
      "text/plain": "[LogicalBinaryExpression:GreaterThan] : Boolean => (40 > 2)\r\n  [ConstantExpression:Constant] : Int32 => 40\r\n  [ConstantExpression:Constant] : Int32 => 2\r\n"
     },
     "execution_count": 1,
     "metadata": {}
    }
   ]
  }
 ],
 "metadata": {
  "kernelspec": {
   "display_name": ".NET (C#)",
   "language": "C#",
   "name": ".net-csharp"
  },
  "language_info": {
   "file_extension": ".cs",
   "mimetype": "text/x-csharp",
   "name": "C#",
   "pygments_lexer": "csharp",
   "version": "8.0"
  }
 },
 "nbformat": 4,
 "nbformat_minor": 4
}