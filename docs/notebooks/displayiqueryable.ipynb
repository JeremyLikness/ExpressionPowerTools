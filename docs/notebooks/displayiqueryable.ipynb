{
 "cells": [
  {
   "cell_type": "code",
   "execution_count": 1,
   "metadata": {},
   "source": [
    "public class Example\r\n",
    "{\r\n",
    "    public string Id { get; set; }\r\n",
    "}\r\n",
    "\r\n",
    "var querySource = new List<Example>().AsQueryable();\r\n",
    "\r\n",
    "var query = querySource\r\n",
    "    .Where(e => e.Id.StartsWith(\"a\"))\r\n",
    "    .Select(e => new { CapturedId = e.Id })\r\n",
    "    .OrderBy(anonType => anonType.CapturedId)\r\n",
    "    .Take(5);\r\n",
    "\r\n",
    "display(query.ToString());"
   ],
   "outputs": [
    {
     "output_type": "execute_result",
     "data": {
      "text/plain": "System.Collections.Generic.List`1[Submission#8+Example].Where(e => e.Id.StartsWith(\"a\")).Select(e => new <>f__AnonymousType0#1`1(CapturedId = e.Id)).OrderBy(anonType => anonType.CapturedId).Take(5)"
     },
     "execution_count": 1,
     "metadata": {}
    }
   ]
  },
  {
   "cell_type": "code",
   "execution_count": 1,
   "metadata": {},
   "source": [
    "#r \"nuget:ExpressionPowerTools.Core,0.9.4-alpha\""
   ],
   "outputs": []
  },
  {
   "cell_type": "code",
   "execution_count": 1,
   "metadata": {},
   "source": [
    "using ExpressionPowerTools.Core.Extensions;\r\n",
    "\r\n",
    "var tree = query.AsEnumerableExpression();\r\n",
    "display(tree.ToString());"
   ],
   "outputs": [
    {
     "output_type": "execute_result",
     "data": {
      "text/plain": "[MethodCallExpression2:Call] : IQueryable`1 => System.Collections.Generic.List`1[Submission#8+Example].Where(e => e.Id.StartsWith(\"a\")).Select(e => new <>f__AnonymousType0#1`1(CapturedId = e.Id)).OrderBy(anonType => anonType.CapturedId).Take(5)\r\n  [MethodCallExpression2:Call] : IOrderedQueryable`1 => System.Collections.Generic.List`1[Submission#8+Example].Where(e => e.Id.StartsWith(\"a\")).Select(e => new <>f__AnonymousType0#1`1(CapturedId = e.Id)).OrderBy(anonType => anonType.CapturedId)\r\n    [MethodCallExpression2:Call] : IQueryable`1 => System.Collections.Generic.List`1[Submission#8+Example].Where(e => e.Id.StartsWith(\"a\")).Select(e => new <>f__AnonymousType0#1`1(CapturedId = e.Id))\r\n      [MethodCallExpression2:Call] : IQueryable`1 => System.Collections.Generic.List`1[Submission#8+Example].Where(e => e.Id.StartsWith(\"a\"))\r\n        [ConstantExpression:Constant] : EnumerableQuery`1 => System.Collections.Generic.List`1[Submission#8+Example]\r\n        [UnaryExpression:Quote] : Expression`1 => e => e.Id.StartsWith(\"a\")\r\n          [Expression1`1:Lambda] : Func`2 => e => e.Id.StartsWith(\"a\")\r\n            [TypedParameterExpression:Parameter] : Example => e\r\n            [InstanceMethodCallExpression1:Call] : Boolean => e.Id.StartsWith(\"a\")\r\n              [PropertyExpression:MemberAccess] : String => e.Id\r\n                [TypedParameterExpression:Parameter] : Example => e\r\n              [ConstantExpression:Constant] : String => \"a\"\r\n      [UnaryExpression:Quote] : Expression`1 => e => new <>f__AnonymousType0#1`1(CapturedId = e.Id)\r\n        [Expression1`1:Lambda] : Func`2 => e => new <>f__AnonymousType0#1`1(CapturedId = e.Id)\r\n          [TypedParameterExpression:Parameter] : Example => e\r\n          [NewExpression:New] : <>f__AnonymousType0#1`1 => new <>f__AnonymousType0#1`1(CapturedId = e.Id)\r\n            [PropertyExpression:MemberAccess] : String => e.Id\r\n              [TypedParameterExpression:Parameter] : Example => e\r\n    [UnaryExpression:Quote] : Expression`1 => anonType => anonType.CapturedId\r\n      [Expression1`1:Lambda] : Func`2 => anonType => anonType.CapturedId\r\n        [TypedParameterExpression:Parameter] : <>f__AnonymousType0#1`1 => anonType\r\n        [PropertyExpression:MemberAccess] : String => anonType.CapturedId\r\n          [TypedParameterExpression:Parameter] : <>f__AnonymousType0#1`1 => anonType\r\n  [ConstantExpression:Constant] : Int32 => 5\r\n"
     },
     "execution_count": 1,
     "metadata": {}
    }
   ]
  },
  {
   "cell_type": "code",
   "execution_count": 1,
   "metadata": {},
   "source": [
    "using System.Linq.Expressions;\r\n",
    "\r\n",
    "var take = tree.MethodsWithName(nameof(Queryable.Take))\r\n",
    "    .SelectMany(m => m.AsEnumerable().ConstantsOfType<int>())\r\n",
    "    .First().Value;\r\n",
    "\r\n",
    "display(take);"
   ],
   "outputs": [
    {
     "output_type": "execute_result",
     "data": {
      "text/html": "<div class=\"dni-plaintext\">5</div>"
     },
     "execution_count": 1,
     "metadata": {}
    }
   ]
  },
  {
   "cell_type": "code",
   "execution_count": 1,
   "metadata": {},
   "source": [
    "var skip = query.HasFragment(q => q.Skip(5));\r\n",
    "var take5 = query.HasFragment(q => q.Take(5));\r\n",
    "var take10 = query.HasFragment(q => q.Take(10));\r\n",
    "\r\n",
    "display(new [] { (nameof(skip), skip), (nameof(take5), take5), (nameof(take10), take10) });"
   ],
   "outputs": [
    {
     "output_type": "execute_result",
     "data": {
      "text/html": "<table><thead><tr><th><i>index</i></th><th>Item1</th><th>Item2</th></tr></thead><tbody><tr><td>0</td><td><div class=\"dni-plaintext\">skip</div></td><td><div class=\"dni-plaintext\">False</div></td></tr><tr><td>1</td><td><div class=\"dni-plaintext\">take5</div></td><td><div class=\"dni-plaintext\">True</div></td></tr><tr><td>2</td><td><div class=\"dni-plaintext\">take10</div></td><td><div class=\"dni-plaintext\">False</div></td></tr></tbody></table>"
     },
     "execution_count": 1,
     "metadata": {}
    }
   ]
  },
  {
   "cell_type": "code",
   "execution_count": 1,
   "metadata": {},
   "source": [
    "var query1 = querySource\r\n",
    "    .Where(e => e.Id.StartsWith(\"a\"))\r\n",
    "    .Select(e => new { CapturedId = e.Id })\r\n",
    "    .OrderBy(anonType => anonType.CapturedId)\r\n",
    "    .Take(6);\r\n",
    "\r\n",
    "var query2 = querySource\r\n",
    "    .Where(e => e.Id.StartsWith(\"b\"))\r\n",
    "    .Select(e => new { CapturedId = e.Id })\r\n",
    "    .OrderBy(anonType => anonType.CapturedId)\r\n",
    "    .Take(5);\r\n",
    "\r\n",
    "var query3 = querySource\r\n",
    "    .Where(e => e.Id.StartsWith(\"a\"))\r\n",
    "    .Select(e => new { CapturedId = e.Id })\r\n",
    "    .OrderBy(anonType => anonType.CapturedId)\r\n",
    "    .Take(5);\r\n",
    "\r\n",
    "var query1eq = query1.IsEquivalentTo(query);\r\n",
    "var query2eq = query2.IsEquivalentTo(query);\r\n",
    "var query3eq = query3.IsEquivalentTo(query);\r\n",
    "\r\n",
    "display(new [] { (nameof(query1eq), query1eq), (nameof(query2eq), query2eq), (nameof(query3eq), query3eq) });"
   ],
   "outputs": [
    {
     "output_type": "execute_result",
     "data": {
      "text/html": "<table><thead><tr><th><i>index</i></th><th>Item1</th><th>Item2</th></tr></thead><tbody><tr><td>0</td><td><div class=\"dni-plaintext\">query1eq</div></td><td><div class=\"dni-plaintext\">False</div></td></tr><tr><td>1</td><td><div class=\"dni-plaintext\">query2eq</div></td><td><div class=\"dni-plaintext\">False</div></td></tr><tr><td>2</td><td><div class=\"dni-plaintext\">query3eq</div></td><td><div class=\"dni-plaintext\">True</div></td></tr></tbody></table>"
     },
     "execution_count": 1,
     "metadata": {}
    }
   ]
  }
 ],
 "metadata": {
  "kernelspec": {
   "display_name": ".NET (C#)",
   "language": "C#",
   "name": ".net-csharp"
  },
  "language_info": {
   "file_extension": ".cs",
   "mimetype": "text/x-csharp",
   "name": "C#",
   "pygments_lexer": "csharp",
   "version": "8.0"
  }
 },
 "nbformat": 4,
 "nbformat_minor": 4
}